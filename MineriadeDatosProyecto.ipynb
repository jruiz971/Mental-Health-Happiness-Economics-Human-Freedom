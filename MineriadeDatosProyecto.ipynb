{
  "nbformat": 4,
  "nbformat_minor": 0,
  "metadata": {
    "colab": {
      "name": "MineriadeDatosProyecto.ipynb",
      "provenance": [],
      "collapsed_sections": []
    },
    "kernelspec": {
      "name": "python3",
      "display_name": "Python 3"
    }
  },
  "cells": [
    {
      "cell_type": "code",
      "metadata": {
        "id": "kQkAFHBh2UVC"
      },
      "source": [
        "import numpy as np\r\n",
        "import pandas as pd\r\n",
        "import matplotlib.pyplot as plt\r\n",
        "import seaborn as sns\r\n",
        "\r\n",
        "links = [\r\n",
        " \"/content/Health Nutrition and Population Statistics.csv\",    # country, [1960:2016]\r\n",
        " \"/content/Mental Health in Tech Survey.csv\",                  # country (2014)\r\n",
        " \"/content/Suicide Rates Overview 1985 to 2016.csv\",           # country, year (1985-2016)\r\n",
        " \"/content/The Human Freedom Index_2018.csv\",                  # year (2008-2016) , countries\r\n",
        " \"/content/The Human Freedom Index_2019.csv\",                  # year (2008-2017), countries\r\n",
        " \"/content/WHO Suicide Statistics.csv\",                        # country,year (1979-2016)\r\n",
        " \"/content/World Happiness Report_2015.csv\",                   # country\r\n",
        " \"/content/World Happiness Report_2016.csv\",                   # country\r\n",
        " \"/content/World Happiness Report_2017.csv\",                   # country\r\n",
        " \"/content/World Happiness Report_2018.csv\",                   # country\r\n",
        " \"/content/World Happiness Report_2019.csv\",                   # country\r\n",
        " ]\r\n",
        "rawdata = [ pd.read_csv(l) for l in links ]"
      ],
      "execution_count": 77,
      "outputs": []
    },
    {
      "cell_type": "code",
      "metadata": {
        "id": "4Nni4Tk_zjeB"
      },
      "source": [
        "rawdata[6]['year']  = 2015\r\n",
        "rawdata[7]['year']  = 2016\r\n",
        "rawdata[8]['year']  = 2017\r\n",
        "rawdata[9]['year']  = 2018\r\n",
        "rawdata[10]['year'] = 2019"
      ],
      "execution_count": 78,
      "outputs": []
    },
    {
      "cell_type": "code",
      "metadata": {
        "id": "b6TTqE0bzsAe"
      },
      "source": [
        "rawdata[6]  = rawdata[6].rename( columns={'Happiness Rank':'Rank', 'Happiness Score':'Score', 'Economy (GDP per Capita)':'GDP per Capita', 'Health (Life Expectancy)':'Healthy', 'Trust (Government Corruption)':'Corruption'})\r\n",
        "rawdata[7]  = rawdata[7].rename( columns={'Happiness Rank':'Rank', 'Happiness Score':'Score', 'Economy (GDP per Capita)':'GDP per Capita', 'Health (Life Expectancy)':'Healthy', 'Trust (Government Corruption)':'Corruption'})\r\n",
        "rawdata[8]  = rawdata[8].rename( columns={'Happiness.Rank':'Rank', 'Happiness.Score':'Score', 'Economy..GDP.per.Capita.':'GDP per Capita', 'Health..Life.Expectancy.':'Healthy', 'Trust..Government.Corruption.':'Corruption'})\r\n",
        "rawdata[9]  = rawdata[9].rename( columns={'Overall rank':'Rank', 'Country or region':'Country', 'GDP per capita':'GDP per Capita', 'Healthy life expectancy':'Healthy', 'Perceptions of corruption':'Corruption', 'Freedom to make life choices':'Freedom'})\r\n",
        "rawdata[10] = rawdata[10].rename(columns={'Overall rank':'Rank', 'Country or region':'Country', 'GDP per capita':'GDP per Capita', 'Healthy life expectancy':'Healthy', 'Perceptions of corruption':'Corruption', 'Freedom to make life choices':'Freedom'})"
      ],
      "execution_count": 79,
      "outputs": []
    },
    {
      "cell_type": "code",
      "metadata": {
        "id": "Y2e7cgQ9FkBN"
      },
      "source": [
        "WHR = pd.concat(rawdata[6:])[['Rank', 'Country', 'year', 'Score', 'GDP per Capita', 'Healthy', 'Freedom', 'Corruption']]"
      ],
      "execution_count": 80,
      "outputs": []
    },
    {
      "cell_type": "code",
      "metadata": {
        "colab": {
          "base_uri": "https://localhost:8080/",
          "height": 204
        },
        "id": "vTvXihjm3DmA",
        "outputId": "4b578a5b-b5a7-4a04-8ee5-b5bc602639a6"
      },
      "source": [
        "WHR.head()"
      ],
      "execution_count": 82,
      "outputs": [
        {
          "output_type": "execute_result",
          "data": {
            "text/html": [
              "<div>\n",
              "<style scoped>\n",
              "    .dataframe tbody tr th:only-of-type {\n",
              "        vertical-align: middle;\n",
              "    }\n",
              "\n",
              "    .dataframe tbody tr th {\n",
              "        vertical-align: top;\n",
              "    }\n",
              "\n",
              "    .dataframe thead th {\n",
              "        text-align: right;\n",
              "    }\n",
              "</style>\n",
              "<table border=\"1\" class=\"dataframe\">\n",
              "  <thead>\n",
              "    <tr style=\"text-align: right;\">\n",
              "      <th></th>\n",
              "      <th>Rank</th>\n",
              "      <th>Country</th>\n",
              "      <th>year</th>\n",
              "      <th>Score</th>\n",
              "      <th>GDP per Capita</th>\n",
              "      <th>Healthy</th>\n",
              "      <th>Freedom</th>\n",
              "      <th>Corruption</th>\n",
              "    </tr>\n",
              "  </thead>\n",
              "  <tbody>\n",
              "    <tr>\n",
              "      <th>0</th>\n",
              "      <td>1</td>\n",
              "      <td>Switzerland</td>\n",
              "      <td>2015</td>\n",
              "      <td>7.587</td>\n",
              "      <td>1.39651</td>\n",
              "      <td>0.94143</td>\n",
              "      <td>0.66557</td>\n",
              "      <td>0.41978</td>\n",
              "    </tr>\n",
              "    <tr>\n",
              "      <th>1</th>\n",
              "      <td>2</td>\n",
              "      <td>Iceland</td>\n",
              "      <td>2015</td>\n",
              "      <td>7.561</td>\n",
              "      <td>1.30232</td>\n",
              "      <td>0.94784</td>\n",
              "      <td>0.62877</td>\n",
              "      <td>0.14145</td>\n",
              "    </tr>\n",
              "    <tr>\n",
              "      <th>2</th>\n",
              "      <td>3</td>\n",
              "      <td>Denmark</td>\n",
              "      <td>2015</td>\n",
              "      <td>7.527</td>\n",
              "      <td>1.32548</td>\n",
              "      <td>0.87464</td>\n",
              "      <td>0.64938</td>\n",
              "      <td>0.48357</td>\n",
              "    </tr>\n",
              "    <tr>\n",
              "      <th>3</th>\n",
              "      <td>4</td>\n",
              "      <td>Norway</td>\n",
              "      <td>2015</td>\n",
              "      <td>7.522</td>\n",
              "      <td>1.45900</td>\n",
              "      <td>0.88521</td>\n",
              "      <td>0.66973</td>\n",
              "      <td>0.36503</td>\n",
              "    </tr>\n",
              "    <tr>\n",
              "      <th>4</th>\n",
              "      <td>5</td>\n",
              "      <td>Canada</td>\n",
              "      <td>2015</td>\n",
              "      <td>7.427</td>\n",
              "      <td>1.32629</td>\n",
              "      <td>0.90563</td>\n",
              "      <td>0.63297</td>\n",
              "      <td>0.32957</td>\n",
              "    </tr>\n",
              "  </tbody>\n",
              "</table>\n",
              "</div>"
            ],
            "text/plain": [
              "   Rank      Country  year  Score  GDP per Capita  Healthy  Freedom  Corruption\n",
              "0     1  Switzerland  2015  7.587         1.39651  0.94143  0.66557     0.41978\n",
              "1     2      Iceland  2015  7.561         1.30232  0.94784  0.62877     0.14145\n",
              "2     3      Denmark  2015  7.527         1.32548  0.87464  0.64938     0.48357\n",
              "3     4       Norway  2015  7.522         1.45900  0.88521  0.66973     0.36503\n",
              "4     5       Canada  2015  7.427         1.32629  0.90563  0.63297     0.32957"
            ]
          },
          "metadata": {
            "tags": []
          },
          "execution_count": 82
        }
      ]
    },
    {
      "cell_type": "code",
      "metadata": {
        "id": "XlaxMC6vApV7"
      },
      "source": [
        ""
      ],
      "execution_count": null,
      "outputs": []
    }
  ]
}